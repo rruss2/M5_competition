{
 "cells": [
  {
   "cell_type": "markdown",
   "metadata": {},
   "source": [
    "# LGBM Model\n",
    "\n",
    "Retrieved from: https://www.kaggle.com/ragnar123/very-fst-model"
   ]
  },
  {
   "cell_type": "markdown",
   "metadata": {},
   "source": [
    "### Load Libraries"
   ]
  },
  {
   "cell_type": "code",
   "execution_count": 5,
   "metadata": {},
   "outputs": [],
   "source": [
    "import warnings\n",
    "warnings.filterwarnings('ignore')\n",
    "import pandas as pd\n",
    "import numpy as np\n",
    "import dask.dataframe as dd\n",
    "pd.set_option('display.max_columns', 500)\n",
    "pd.set_option('display.max_rows', 500)\n",
    "import matplotlib.pyplot as plt\n",
    "import seaborn as sns\n",
    "import lightgbm as lgb\n",
    "import dask_xgboost as xgb\n",
    "import dask.dataframe as dd\n",
    "from sklearn import preprocessing, metrics\n",
    "from sklearn.model_selection import StratifiedKFold, KFold, RepeatedKFold, GroupKFold, GridSearchCV, train_test_split, TimeSeriesSplit\n",
    "import gc\n",
    "import os\n",
    "for dirname, _, filenames in os.walk('/kaggle/input'):\n",
    "    for filename in filenames:\n",
    "        print(os.path.join(dirname, filename))"
   ]
  },
  {
   "cell_type": "markdown",
   "metadata": {},
   "source": [
    "### Load and Preprocess Data"
   ]
  },
  {
   "cell_type": "code",
   "execution_count": 6,
   "metadata": {},
   "outputs": [
    {
     "name": "stdout",
     "output_type": "stream",
     "text": [
      "Reading files...\n",
      "Mem. usage decreased to  0.12 Mb (41.9% reduction)\n",
      "Calendar has 1969 rows and 14 columns\n",
      "Mem. usage decreased to 130.48 Mb (37.5% reduction)\n",
      "Sell prices has 6841121 rows and 4 columns\n",
      "Sales train validation has 30490 rows and 1919 columns\n",
      "Melted sales train validation has 58327370 rows and 8 columns\n",
      "Mem. usage decreased to 3226.27 Mb (9.4% reduction)\n",
      "Our final dataset to train has 31681090 rows and 18 columns\n"
     ]
    },
    {
     "data": {
      "text/plain": [
       "7"
      ]
     },
     "execution_count": 6,
     "metadata": {},
     "output_type": "execute_result"
    }
   ],
   "source": [
    "# Function to reduce memory to increase performance to decrease run time.\n",
    "def reduce_mem_usage(df, verbose=True):\n",
    "    numerics = ['int16', 'int32', 'int64', 'float16', 'float32', 'float64']\n",
    "    start_mem = df.memory_usage().sum() / 1024**2    \n",
    "    for col in df.columns:\n",
    "        col_type = df[col].dtypes\n",
    "        if col_type in numerics:\n",
    "            c_min = df[col].min()\n",
    "            c_max = df[col].max()\n",
    "            if str(col_type)[:3] == 'int':\n",
    "                if c_min > np.iinfo(np.int8).min and c_max < np.iinfo(np.int8).max:\n",
    "                    df[col] = df[col].astype(np.int8)\n",
    "                elif c_min > np.iinfo(np.int16).min and c_max < np.iinfo(np.int16).max:\n",
    "                    df[col] = df[col].astype(np.int16)\n",
    "                elif c_min > np.iinfo(np.int32).min and c_max < np.iinfo(np.int32).max:\n",
    "                    df[col] = df[col].astype(np.int32)\n",
    "                elif c_min > np.iinfo(np.int64).min and c_max < np.iinfo(np.int64).max:\n",
    "                    df[col] = df[col].astype(np.int64)  \n",
    "            else:\n",
    "                if c_min > np.finfo(np.float16).min and c_max < np.finfo(np.float16).max:\n",
    "                    df[col] = df[col].astype(np.float16)\n",
    "                elif c_min > np.finfo(np.float32).min and c_max < np.finfo(np.float32).max:\n",
    "                    df[col] = df[col].astype(np.float32)\n",
    "                else:\n",
    "                    df[col] = df[col].astype(np.float64)    \n",
    "    end_mem = df.memory_usage().sum() / 1024**2\n",
    "    if verbose: print('Mem. usage decreased to {:5.2f} Mb ({:.1f}% reduction)'.format(end_mem, 100 * (start_mem - end_mem) / start_mem))\n",
    "    return df\n",
    "\n",
    "\n",
    "# Function to read the data and merge it (ignoring some columns).\n",
    "\n",
    "def read_data():\n",
    "    print('Reading files...')\n",
    "    calendar = pd.read_csv('calendar.csv')\n",
    "    calendar = reduce_mem_usage(calendar)\n",
    "    print('Calendar has {} rows and {} columns'.format(calendar.shape[0], calendar.shape[1]))\n",
    "    sell_prices = pd.read_csv('sell_prices.csv')\n",
    "    sell_prices = reduce_mem_usage(sell_prices)\n",
    "    print('Sell prices has {} rows and {} columns'.format(sell_prices.shape[0], sell_prices.shape[1]))\n",
    "    sales_train_validation = pd.read_csv('sales_train_validation.csv')\n",
    "    print('Sales train validation has {} rows and {} columns'.format(sales_train_validation.shape[0], sales_train_validation.shape[1]))\n",
    "    submission = pd.read_csv('sample_submission.csv')\n",
    "    return calendar, sell_prices, sales_train_validation, submission\n",
    "\n",
    "# Function to merge and melt the four dataframes together.\n",
    "def melt_and_merge(calendar, sell_prices, sales_train_validation, submission, nrows = 55000000, merge = False):\n",
    "    \n",
    "    # Melt sales data, get it ready for training.\n",
    "    sales_train_validation = pd.melt(sales_train_validation, id_vars = ['id', 'item_id', 'dept_id', 'cat_id', 'store_id', 'state_id'], var_name = 'day', value_name = 'demand')\n",
    "    print('Melted sales train validation has {} rows and {} columns'.format(sales_train_validation.shape[0], sales_train_validation.shape[1]))\n",
    "    sales_train_validation = reduce_mem_usage(sales_train_validation)\n",
    "    \n",
    "    # Seperate test dataframes.\n",
    "    test1_rows = [row for row in submission['id'] if 'validation' in row]\n",
    "    test2_rows = [row for row in submission['id'] if 'evaluation' in row]\n",
    "    test1 = submission[submission['id'].isin(test1_rows)]\n",
    "    test2 = submission[submission['id'].isin(test2_rows)]\n",
    "    \n",
    "    # Change column names.\n",
    "    test1.columns = ['id', 'd_1914', 'd_1915', 'd_1916', 'd_1917', 'd_1918', 'd_1919', 'd_1920', 'd_1921', 'd_1922', 'd_1923', 'd_1924', 'd_1925', 'd_1926', 'd_1927', 'd_1928', 'd_1929', 'd_1930', 'd_1931', \n",
    "                      'd_1932', 'd_1933', 'd_1934', 'd_1935', 'd_1936', 'd_1937', 'd_1938', 'd_1939', 'd_1940', 'd_1941']\n",
    "    test2.columns = ['id', 'd_1942', 'd_1943', 'd_1944', 'd_1945', 'd_1946', 'd_1947', 'd_1948', 'd_1949', 'd_1950', 'd_1951', 'd_1952', 'd_1953', 'd_1954', 'd_1955', 'd_1956', 'd_1957', 'd_1958', 'd_1959', \n",
    "                      'd_1960', 'd_1961', 'd_1962', 'd_1963', 'd_1964', 'd_1965', 'd_1966', 'd_1967', 'd_1968', 'd_1969']\n",
    "    \n",
    "    # Get product table.\n",
    "    product = sales_train_validation[['id', 'item_id', 'dept_id', 'cat_id', 'store_id', 'state_id']].drop_duplicates()\n",
    "    \n",
    "    # Merge with product table.\n",
    "    test1 = test1.merge(product, how = 'left', on = 'id')\n",
    "    test2 = test2.merge(product, how = 'left', on = 'id')\n",
    "    \n",
    "    # Melt the test dataframes.\n",
    "    test1 = pd.melt(test1, id_vars = ['id', 'item_id', 'dept_id', 'cat_id', 'store_id', 'state_id'], var_name = 'day', value_name = 'demand')\n",
    "    test2 = pd.melt(test2, id_vars = ['id', 'item_id', 'dept_id', 'cat_id', 'store_id', 'state_id'], var_name = 'day', value_name = 'demand')\n",
    "    \n",
    "    sales_train_validation['part'] = 'train'\n",
    "    test1['part'] = 'test1'\n",
    "    test2['part'] = 'test2'\n",
    "    \n",
    "    data = pd.concat([sales_train_validation, test1, test2], axis = 0)\n",
    "    \n",
    "    del sales_train_validation, test1, test2\n",
    "    \n",
    "    # Get only a sample for fst training.\n",
    "    data = data.loc[nrows:]\n",
    "    \n",
    "    # Drop some calendar features.\n",
    "    calendar.drop(['weekday', 'wday', 'month', 'year'], inplace = True, axis = 1)\n",
    "    \n",
    "    # Delete test2 for now.\n",
    "    data = data[data['part'] != 'test2']\n",
    "    \n",
    "    if merge:\n",
    "        data = pd.merge(data, calendar, how = 'left', left_on = ['day'], right_on = ['d'])\n",
    "        data.drop(['d', 'day'], inplace = True, axis = 1)\n",
    "        # Get the sell price data.\n",
    "        data = data.merge(sell_prices, on = ['store_id', 'item_id', 'wm_yr_wk'], how = 'left')\n",
    "        print('Our final dataset to train has {} rows and {} columns'.format(data.shape[0], data.shape[1]))\n",
    "    else: \n",
    "        pass\n",
    "    \n",
    "    gc.collect()\n",
    "    \n",
    "    return data\n",
    "        \n",
    "calendar, sell_prices, sales_train_validation, submission = read_data()\n",
    "data = melt_and_merge(calendar, sell_prices, sales_train_validation, submission, nrows = 27500000, merge = True)\n",
    "gc.collect()"
   ]
  },
  {
   "cell_type": "code",
   "execution_count": 7,
   "metadata": {},
   "outputs": [
    {
     "data": {
      "text/plain": [
       "7"
      ]
     },
     "execution_count": 7,
     "metadata": {},
     "output_type": "execute_result"
    }
   ],
   "source": [
    "# Transform data for lgbm model.\n",
    "def transform(data):\n",
    "    \n",
    "    nan_features = ['event_name_1', 'event_type_1', 'event_name_2', 'event_type_2']\n",
    "    for feature in nan_features:\n",
    "        data[feature].fillna('unknown', inplace = True)\n",
    "    \n",
    "    encoder = preprocessing.LabelEncoder()\n",
    "    data['id_encode'] = encoder.fit_transform(data['id'])\n",
    "    \n",
    "    cat = ['item_id', 'dept_id', 'cat_id', 'store_id', 'state_id', 'event_name_1', 'event_type_1', 'event_name_2', 'event_type_2']\n",
    "    for feature in cat:\n",
    "        encoder = preprocessing.LabelEncoder()\n",
    "        data[feature] = encoder.fit_transform(data[feature])\n",
    "    \n",
    "    return data\n",
    "\n",
    "data = transform(data)\n",
    "gc.collect()\n"
   ]
  },
  {
   "cell_type": "code",
   "execution_count": 8,
   "metadata": {},
   "outputs": [
    {
     "name": "stdout",
     "output_type": "stream",
     "text": [
      "Mem. usage decreased to 2568.14 Mb (58.9% reduction)\n"
     ]
    },
    {
     "data": {
      "text/plain": [
       "111"
      ]
     },
     "execution_count": 8,
     "metadata": {},
     "output_type": "execute_result"
    }
   ],
   "source": [
    "# Function to do feature engineering.\n",
    "def simple_fe(data):\n",
    "    \n",
    "    # Demand features.\n",
    "    data['lag_t28'] = data.groupby(['id'])['demand'].transform(lambda x: x.shift(28))\n",
    "    data['lag_t29'] = data.groupby(['id'])['demand'].transform(lambda x: x.shift(29))\n",
    "    data['lag_t30'] = data.groupby(['id'])['demand'].transform(lambda x: x.shift(30))\n",
    "    data['rolling_mean_t7'] = data.groupby(['id'])['demand'].transform(lambda x: x.shift(28).rolling(7).mean())\n",
    "    data['rolling_std_t7'] = data.groupby(['id'])['demand'].transform(lambda x: x.shift(28).rolling(7).std())\n",
    "    data['rolling_mean_t30'] = data.groupby(['id'])['demand'].transform(lambda x: x.shift(28).rolling(30).mean())\n",
    "    data['rolling_mean_t90'] = data.groupby(['id'])['demand'].transform(lambda x: x.shift(28).rolling(90).mean())\n",
    "    data['rolling_mean_t180'] = data.groupby(['id'])['demand'].transform(lambda x: x.shift(28).rolling(180).mean())\n",
    "    data['rolling_std_t30'] = data.groupby(['id'])['demand'].transform(lambda x: x.shift(28).rolling(30).std())\n",
    "    \n",
    "    # Price features.\n",
    "    data['lag_price_t1'] = data.groupby(['id'])['sell_price'].transform(lambda x: x.shift(1))\n",
    "    data['price_change_t1'] = (data['lag_price_t1'] - data['sell_price']) / (data['lag_price_t1'])\n",
    "    data['rolling_price_max_t365'] = data.groupby(['id'])['sell_price'].transform(lambda x: x.shift(1).rolling(365).max())\n",
    "    data['price_change_t365'] = (data['rolling_price_max_t365'] - data['sell_price']) / (data['rolling_price_max_t365'])\n",
    "    data['rolling_price_std_t7'] = data.groupby(['id'])['sell_price'].transform(lambda x: x.rolling(7).std())\n",
    "    data['rolling_price_std_t30'] = data.groupby(['id'])['sell_price'].transform(lambda x: x.rolling(30).std())\n",
    "    data.drop(['rolling_price_max_t365', 'lag_price_t1'], inplace = True, axis = 1)\n",
    "    \n",
    "    # Time features.\n",
    "    data['date'] = pd.to_datetime(data['date'])\n",
    "    data['year'] = data['date'].dt.year\n",
    "    data['month'] = data['date'].dt.month\n",
    "    data['week'] = data['date'].dt.week\n",
    "    data['day'] = data['date'].dt.day\n",
    "    data['dayofweek'] = data['date'].dt.dayofweek\n",
    "    \n",
    "    return data\n",
    "\n",
    "data = simple_fe(data)\n",
    "data = reduce_mem_usage(data)\n",
    "gc.collect()"
   ]
  },
  {
   "cell_type": "code",
   "execution_count": 9,
   "metadata": {},
   "outputs": [],
   "source": [
    "# Create x and y variables for lgbm model.\n",
    "x = data[data['date'] <= '2016-04-24']\n",
    "y = x.sort_values('date')['demand']\n",
    "test = data[(data['date'] > '2016-04-24')]\n",
    "x = x.sort_values('date')\n",
    "test = test.sort_values('date')\n",
    "del data"
   ]
  },
  {
   "cell_type": "code",
   "execution_count": 10,
   "metadata": {},
   "outputs": [],
   "source": [
    "# Cross validation with 3 folds.\n",
    "n_fold = 3 \n",
    "folds = TimeSeriesSplit(n_splits=n_fold)"
   ]
  },
  {
   "cell_type": "markdown",
   "metadata": {},
   "source": [
    "### LightGBM Model"
   ]
  },
  {
   "cell_type": "code",
   "execution_count": 11,
   "metadata": {},
   "outputs": [],
   "source": [
    "# Parameters for lgbm model.\n",
    "params = {'num_leaves': 555,\n",
    "          'min_child_weight': 0.034,\n",
    "          'feature_fraction': 0.379,\n",
    "          'bagging_fraction': 0.418,\n",
    "          'min_data_in_leaf': 106,\n",
    "          'objective': 'regression',\n",
    "          'max_depth': -1,\n",
    "          'learning_rate': 0.005,\n",
    "          \"boosting_type\": \"gbdt\",\n",
    "          \"bagging_seed\": 11,\n",
    "          \"metric\": 'rmse',\n",
    "          \"verbosity\": -1,\n",
    "          'reg_alpha': 0.3899,\n",
    "          'reg_lambda': 0.648,\n",
    "          'random_state': 222,\n",
    "         }"
   ]
  },
  {
   "cell_type": "code",
   "execution_count": 12,
   "metadata": {},
   "outputs": [
    {
     "name": "stdout",
     "output_type": "stream",
     "text": [
      "Fold: 1\n",
      "Training until validation scores don't improve for 50 rounds\n",
      "[100]\ttraining's rmse: 3.49298\tvalid_1's rmse: 3.0439\n",
      "[200]\ttraining's rmse: 3.12241\tvalid_1's rmse: 2.70715\n",
      "[300]\ttraining's rmse: 2.92076\tvalid_1's rmse: 2.5591\n",
      "[400]\ttraining's rmse: 2.81338\tvalid_1's rmse: 2.4917\n",
      "[500]\ttraining's rmse: 2.7374\tvalid_1's rmse: 2.45977\n",
      "[600]\ttraining's rmse: 2.68321\tvalid_1's rmse: 2.44428\n",
      "[700]\ttraining's rmse: 2.64118\tvalid_1's rmse: 2.43582\n",
      "[800]\ttraining's rmse: 2.6077\tvalid_1's rmse: 2.43206\n",
      "[900]\ttraining's rmse: 2.57645\tvalid_1's rmse: 2.43067\n",
      "Early stopping, best iteration is:\n",
      "[879]\ttraining's rmse: 2.58312\tvalid_1's rmse: 2.4302\n",
      "val rmse score is 2.430199768347135\n",
      "Fold: 2\n",
      "Training until validation scores don't improve for 50 rounds\n",
      "[100]\ttraining's rmse: 3.23723\tvalid_1's rmse: 2.87286\n",
      "[200]\ttraining's rmse: 2.86907\tvalid_1's rmse: 2.56752\n",
      "[300]\ttraining's rmse: 2.6844\tvalid_1's rmse: 2.42999\n",
      "[400]\ttraining's rmse: 2.58899\tvalid_1's rmse: 2.36913\n",
      "[500]\ttraining's rmse: 2.52987\tvalid_1's rmse: 2.33816\n",
      "[600]\ttraining's rmse: 2.48717\tvalid_1's rmse: 2.32081\n",
      "[700]\ttraining's rmse: 2.45385\tvalid_1's rmse: 2.30987\n",
      "[800]\ttraining's rmse: 2.42588\tvalid_1's rmse: 2.30155\n",
      "[900]\ttraining's rmse: 2.40167\tvalid_1's rmse: 2.29495\n",
      "[1000]\ttraining's rmse: 2.38226\tvalid_1's rmse: 2.29036\n",
      "[1100]\ttraining's rmse: 2.36352\tvalid_1's rmse: 2.28604\n",
      "[1200]\ttraining's rmse: 2.34672\tvalid_1's rmse: 2.28271\n",
      "[1300]\ttraining's rmse: 2.33256\tvalid_1's rmse: 2.27988\n",
      "[1400]\ttraining's rmse: 2.31931\tvalid_1's rmse: 2.27742\n",
      "[1500]\ttraining's rmse: 2.30662\tvalid_1's rmse: 2.27547\n",
      "[1600]\ttraining's rmse: 2.29501\tvalid_1's rmse: 2.27397\n",
      "[1700]\ttraining's rmse: 2.284\tvalid_1's rmse: 2.27254\n",
      "[1800]\ttraining's rmse: 2.27287\tvalid_1's rmse: 2.27128\n",
      "[1900]\ttraining's rmse: 2.26303\tvalid_1's rmse: 2.2703\n",
      "[2000]\ttraining's rmse: 2.25405\tvalid_1's rmse: 2.26952\n",
      "[2100]\ttraining's rmse: 2.24474\tvalid_1's rmse: 2.26888\n",
      "[2200]\ttraining's rmse: 2.23663\tvalid_1's rmse: 2.26834\n",
      "[2300]\ttraining's rmse: 2.22849\tvalid_1's rmse: 2.26782\n",
      "[2400]\ttraining's rmse: 2.22113\tvalid_1's rmse: 2.26744\n",
      "[2500]\ttraining's rmse: 2.2136\tvalid_1's rmse: 2.26695\n",
      "Did not meet early stopping. Best iteration is:\n",
      "[2500]\ttraining's rmse: 2.2136\tvalid_1's rmse: 2.26695\n",
      "val rmse score is 2.2669482268258974\n",
      "Fold: 3\n",
      "Training until validation scores don't improve for 50 rounds\n",
      "[100]\ttraining's rmse: 3.11321\tvalid_1's rmse: 2.86668\n",
      "[200]\ttraining's rmse: 2.75821\tvalid_1's rmse: 2.53204\n",
      "[300]\ttraining's rmse: 2.58348\tvalid_1's rmse: 2.3815\n",
      "[400]\ttraining's rmse: 2.49477\tvalid_1's rmse: 2.31541\n",
      "[500]\ttraining's rmse: 2.4413\tvalid_1's rmse: 2.28365\n",
      "[600]\ttraining's rmse: 2.40415\tvalid_1's rmse: 2.26681\n",
      "[700]\ttraining's rmse: 2.37606\tvalid_1's rmse: 2.25705\n",
      "[800]\ttraining's rmse: 2.35258\tvalid_1's rmse: 2.25005\n",
      "[900]\ttraining's rmse: 2.33185\tvalid_1's rmse: 2.24501\n",
      "[1000]\ttraining's rmse: 2.31532\tvalid_1's rmse: 2.24121\n",
      "[1100]\ttraining's rmse: 2.29952\tvalid_1's rmse: 2.23829\n",
      "[1200]\ttraining's rmse: 2.28559\tvalid_1's rmse: 2.23623\n",
      "[1300]\ttraining's rmse: 2.27352\tvalid_1's rmse: 2.23415\n",
      "[1400]\ttraining's rmse: 2.26209\tvalid_1's rmse: 2.23249\n",
      "[1500]\ttraining's rmse: 2.2515\tvalid_1's rmse: 2.2311\n",
      "[1600]\ttraining's rmse: 2.24177\tvalid_1's rmse: 2.23024\n",
      "[1700]\ttraining's rmse: 2.23232\tvalid_1's rmse: 2.22921\n",
      "[1800]\ttraining's rmse: 2.22299\tvalid_1's rmse: 2.22828\n",
      "[1900]\ttraining's rmse: 2.21448\tvalid_1's rmse: 2.22754\n",
      "[2000]\ttraining's rmse: 2.20692\tvalid_1's rmse: 2.22699\n",
      "[2100]\ttraining's rmse: 2.19896\tvalid_1's rmse: 2.22644\n",
      "[2200]\ttraining's rmse: 2.19212\tvalid_1's rmse: 2.22602\n",
      "[2300]\ttraining's rmse: 2.18549\tvalid_1's rmse: 2.22579\n",
      "[2400]\ttraining's rmse: 2.17921\tvalid_1's rmse: 2.22552\n",
      "[2500]\ttraining's rmse: 2.17303\tvalid_1's rmse: 2.22524\n",
      "Did not meet early stopping. Best iteration is:\n",
      "[2500]\ttraining's rmse: 2.17303\tvalid_1's rmse: 2.22524\n",
      "val rmse score is 2.2252391202624353\n",
      "mean rmse score over folds is 2.307462371811823\n"
     ]
    }
   ],
   "source": [
    "# Running the lgbm model with RMSE evaluation metrics.\n",
    "columns = ['item_id', 'dept_id', 'cat_id', 'store_id', 'state_id', 'year', 'month', 'week', 'day', 'dayofweek', 'event_name_1', 'event_type_1', 'event_name_2', 'event_type_2', \n",
    "            'snap_CA', 'snap_TX', 'snap_WI', 'sell_price', 'lag_t28', 'lag_t29', 'lag_t30', 'rolling_mean_t7', 'rolling_std_t7', 'rolling_mean_t30', 'rolling_mean_t90', \n",
    "            'rolling_mean_t180', 'rolling_std_t30', 'price_change_t1', 'price_change_t365', 'rolling_price_std_t7', 'rolling_price_std_t30']\n",
    "splits = folds.split(x, y)\n",
    "y_preds = np.zeros(test.shape[0])\n",
    "y_oof = np.zeros(x.shape[0])\n",
    "feature_importances = pd.DataFrame()\n",
    "feature_importances['feature'] = columns\n",
    "mean_score = []\n",
    "for fold_n, (train_index, valid_index) in enumerate(splits):\n",
    "    print('Fold:',fold_n+1)\n",
    "    X_train, X_valid = x[columns].iloc[train_index], x[columns].iloc[valid_index]\n",
    "    y_train, y_valid = y.iloc[train_index], y.iloc[valid_index]\n",
    "    dtrain = lgb.Dataset(X_train, label=y_train)\n",
    "    dvalid = lgb.Dataset(X_valid, label=y_valid)\n",
    "    clf = lgb.train(params, dtrain, 2500, valid_sets = [dtrain, dvalid],early_stopping_rounds = 50, verbose_eval=100)\n",
    "    feature_importances[f'fold_{fold_n + 1}'] = clf.feature_importance()\n",
    "    y_pred_valid = clf.predict(X_valid,num_iteration=clf.best_iteration)\n",
    "    y_oof[valid_index] = y_pred_valid\n",
    "    val_score = np.sqrt(metrics.mean_squared_error(y_pred_valid, y_valid))\n",
    "    print(f'val rmse score is {val_score}')\n",
    "    mean_score.append(val_score)\n",
    "    y_preds += clf.predict(test[columns], num_iteration=clf.best_iteration)/n_fold\n",
    "    del X_train, X_valid, y_train, y_valid\n",
    "    gc.collect()\n",
    "print('mean rmse score over folds is',np.mean(mean_score))\n",
    "test['demand'] = y_preds"
   ]
  },
  {
   "cell_type": "markdown",
   "metadata": {},
   "source": [
    "### Feature Importance for LightGBM"
   ]
  },
  {
   "cell_type": "code",
   "execution_count": 15,
   "metadata": {
    "scrolled": false
   },
   "outputs": [
    {
     "data": {
      "image/png": "[encoded data removed]",
      "text/plain": [
       "<Figure size 1152x864 with 1 Axes>"
      ]
     },
     "metadata": {
      "needs_background": "light"
     },
     "output_type": "display_data"
    }
   ],
   "source": [
    "import seaborn as sns\n",
    "feature_importances['average'] = feature_importances[[f'fold_{fold_n + 1}' for fold_n in range(folds.n_splits)]].mean(axis=1)\n",
    "feature_importances.to_csv('lgb_feature_importances.csv')\n",
    "\n",
    "plt.figure(figsize=(16, 12))\n",
    "sns.barplot(data=feature_importances.sort_values(by='average', ascending=False).head(20), x='average', y='feature');\n",
    "plt.title('20 TOP feature importance over {} folds average'.format(folds.n_splits));"
   ]
  },
  {
   "cell_type": "markdown",
   "metadata": {},
   "source": [
    "The light GBM model performed fairly well with an RMSE over the folds is approximately 2.3.  I can see from the relative feature importance that the top 3 features were item_id, sell_price, and week.  I think item_id and sell_price makes sense to be the top features for the forecast because the forecast will depend on the items and price of the items.  Week also makes sense because the forecast depends on time parameters to make a forecast, so having a time parameter in the top three relative important features is logical."
   ]
  }
 ],
 "metadata": {
  "kernelspec": {
   "display_name": "Python 3",
   "language": "python",
   "name": "python3"
  },
  "language_info": {
   "codemirror_mode": {
    "name": "ipython",
    "version": 3
   },
   "file_extension": ".py",
   "mimetype": "text/x-python",
   "name": "python",
   "nbconvert_exporter": "python",
   "pygments_lexer": "ipython3",
   "version": "3.7.1"
  }
 },
 "nbformat": 4,
 "nbformat_minor": 2
}
